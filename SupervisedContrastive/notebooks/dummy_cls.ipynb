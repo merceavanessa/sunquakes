{
 "cells": [
  {
   "cell_type": "code",
   "execution_count": 335,
   "metadata": {},
   "outputs": [],
   "source": [
    "from sklearn.metrics import classification_report, confusion_matrix\n",
    "from sklearn.neighbors import KNeighborsClassifier as knn\n",
    "from sklearn.ensemble import BaggingClassifier as knn_bagging\n",
    "from sklearn.linear_model import SGDClassifier as sgd\n",
    "from sklearn.linear_model import LogisticRegression as logistic_reg\n",
    "import pandas as pd\n",
    "import seaborn as sns\n",
    "import matplotlib.pyplot as plt\n",
    "plt.style.use(\"dark_background\")\n"
   ]
  },
  {
   "cell_type": "code",
   "execution_count": 380,
   "metadata": {},
   "outputs": [],
   "source": [
    "old_run = False\n",
    "\n",
    "has_tr_train = True\n",
    "has_tr_test = True\n",
    "has_tr_unc = True\n",
    "\n",
    "use_uncertain = True\n",
    "encoding_size = 20\n",
    "\n",
    "run_on_raw = False"
   ]
  },
  {
   "cell_type": "code",
   "execution_count": 381,
   "metadata": {},
   "outputs": [],
   "source": [
    "df_train = pd.read_csv('./out/supcon_ups_14_07_emb20_train.csv')\n",
    "df_test = pd.read_csv('./out/supcon_ups_14_07_emb20_val.csv')\n",
    "\n",
    "if use_uncertain:\n",
    "    df_uncertain_test = pd.read_csv('./out/supcon_ups_14_07_emb20_ups_test.csv')\n",
    "\n",
    "# df_test = pd.concat([pd.read_csv('./negs_test.csv'), pd.read_csv('./out/07_07_upsfix_supcon_upsample_test.csv')], ignore_index=True)"
   ]
  },
  {
   "cell_type": "code",
   "execution_count": 382,
   "metadata": {},
   "outputs": [],
   "source": [
    "# df_test['name'] = df_test['name'].str.replace('-val','')\n",
    "# df_test['name'] = df_test['name'].str.replace('dataset/C','dataset/all/C')\n",
    "# df_train = df_train[~df_train['name'].isin(df_test['name'].tolist())]\n",
    "#"
   ]
  },
  {
   "cell_type": "markdown",
   "metadata": {},
   "source": [
    "### Config"
   ]
  },
  {
   "cell_type": "code",
   "execution_count": 383,
   "metadata": {},
   "outputs": [],
   "source": [
    "if old_run:\n",
    "    cols_to_extract_no_tr  = ['useless1', 'part_of_quake','Year','month','day','event_idx','frame']\n",
    "else:\n",
    "    cols_to_extract_no_tr  = ['useless1','useless2', 'useless3','part_of_quake','Year','month','day','Hour','Minute','Seconds','frame']\n",
    "cols_to_extract_has_tr  = cols_to_extract_no_tr + ['transform']\n",
    "emb_cols = [f'{x}' for x in range(0,encoding_size)]"
   ]
  },
  {
   "cell_type": "code",
   "execution_count": 384,
   "metadata": {},
   "outputs": [],
   "source": [
    "def update_cols(df, has_tr):\n",
    "    if (has_tr):\n",
    "        df[cols_to_extract_has_tr] = df['name'].str.split('_', expand=True)\n",
    "        df.loc[df['transform'].isna(),'transform'] = '20'\n",
    "        df['transform'] = df['transform'].str.extract('(\\d+)', expand=False)\n",
    "        df['transform']=df['transform'].astype(int)\n",
    "    else:\n",
    "        df[cols_to_extract_no_tr] = df['name'].str.split('_', expand=True)\n",
    "    \n",
    "    df['frame'] = df['frame'].str.extract('(\\d+)', expand=False)\n",
    "    df['frame']=df['frame'].astype(int)\n",
    "    return df\n",
    "\n",
    "def set_custom_preds(df, predcol=''):\n",
    "    is_pos = 1 if df[predcol+'_preds'].mean() > 0.5 else 0\n",
    "    is_pos_any = 1 if df[predcol+'_preds'].any() else 0\n",
    "    df[f'avg_preds_{predcol}'] = is_pos\n",
    "    df[f'any_preds_{predcol}'] = is_pos_any\n",
    "    return df\n",
    "\n",
    "def set_preds(df_train, df_test, df_uncertain, preds_train, preds_test, preds_uncertain, clstype):\n",
    "    df_train[clstype+'_preds'] = preds_train\n",
    "    df_test[clstype+'_preds'] = preds_test\n",
    "    if use_uncertain:\n",
    "        df_uncertain[clstype+'_preds'] = preds_uncertain"
   ]
  },
  {
   "cell_type": "code",
   "execution_count": 385,
   "metadata": {},
   "outputs": [],
   "source": [
    "df_train = update_cols(df_train, has_tr=has_tr_train)\n",
    "df_test = update_cols(df_test, has_tr=has_tr_test)\n",
    "if use_uncertain:\n",
    "    df_uncertain_test = update_cols(df_uncertain_test, has_tr=has_tr_unc)\n",
    "else:\n",
    "    df_uncertain_test = None"
   ]
  },
  {
   "cell_type": "code",
   "execution_count": 386,
   "metadata": {},
   "outputs": [],
   "source": [
    "if not old_run:\n",
    "    df_test['date'] = pd.to_datetime(df_test[['Year', 'month', 'day', 'Hour','Minute','Seconds']])\n",
    "    df_test['date'].unique()"
   ]
  },
  {
   "cell_type": "code",
   "execution_count": 387,
   "metadata": {},
   "outputs": [],
   "source": [
    "if run_on_raw:\n",
    "    if (has_tr_train):\n",
    "        df_train = df_train[df_train['transform'] == 20]\n",
    "    if (has_tr_test):\n",
    "        df_test = df_test[df_test['transform'] == 20]\n",
    "    if use_uncertain:\n",
    "        if has_tr_unc:\n",
    "            df_uncertain_test = df_uncertain_test[df_uncertain_test['transform'] == 20]\n",
    "\n",
    "if (not has_tr_train and not has_tr_test):\n",
    "    run_on_raw = True"
   ]
  },
  {
   "cell_type": "markdown",
   "metadata": {},
   "source": [
    "### KNN Bagging"
   ]
  },
  {
   "cell_type": "code",
   "execution_count": 388,
   "metadata": {},
   "outputs": [],
   "source": [
    "model = knn_bagging()\n",
    "model.fit(df_train[emb_cols], df_train['label'])\n",
    "\n",
    "preds_train = model.predict(df_train[emb_cols])\n",
    "preds = model.predict(df_test[emb_cols])\n",
    "\n",
    "uncertain_preds = None\n",
    "if use_uncertain:\n",
    "    uncertain_preds = model.predict(df_uncertain_test[emb_cols])\n",
    "    \n",
    "set_preds(df_train, df_test, df_uncertain_test, preds_train, preds, uncertain_preds, f'knn_bagging')"
   ]
  },
  {
   "cell_type": "code",
   "execution_count": 389,
   "metadata": {},
   "outputs": [
    {
     "name": "stdout",
     "output_type": "stream",
     "text": [
      "\n",
      "Train:\n",
      "\n",
      "              precision    recall  f1-score   support\n",
      "\n",
      "           0       0.99      1.00      0.99     10327\n",
      "           1       1.00      0.78      0.88       659\n",
      "\n",
      "    accuracy                           0.99     10986\n",
      "   macro avg       0.99      0.89      0.94     10986\n",
      "weighted avg       0.99      0.99      0.99     10986\n",
      "\n",
      "[[10327     0]\n",
      " [  143   516]]\n",
      "Test:\n",
      "\n",
      "              precision    recall  f1-score   support\n",
      "\n",
      "           0       0.93      1.00      0.96      2622\n",
      "           1       0.00      0.00      0.00       186\n",
      "\n",
      "    accuracy                           0.93      2808\n",
      "   macro avg       0.47      0.50      0.48      2808\n",
      "weighted avg       0.87      0.93      0.90      2808\n",
      "\n",
      "[[2612   10]\n",
      " [ 186    0]]\n",
      "Uncertain:\n",
      "\n",
      "              precision    recall  f1-score   support\n",
      "\n",
      "           0       0.94      1.00      0.97       953\n",
      "           1       0.00      0.00      0.00        63\n",
      "\n",
      "    accuracy                           0.94      1016\n",
      "   macro avg       0.47      0.50      0.48      1016\n",
      "weighted avg       0.88      0.94      0.91      1016\n",
      "\n",
      "[[952   1]\n",
      " [ 63   0]]\n"
     ]
    }
   ],
   "source": [
    "cls = 'knn_bagging'\n",
    "print(\"\\nTrain:\\n\")\n",
    "print(classification_report(df_train['label'], df_train[f'{cls}_preds']))\n",
    "print(confusion_matrix(df_train['label'], df_train[f'{cls}_preds']))\n",
    "print(\"Test:\\n\")\n",
    "print(classification_report(df_test['label'], df_test[f'{cls}_preds']))\n",
    "print(confusion_matrix(df_test['label'], df_test[f'{cls}_preds']))\n",
    "if use_uncertain:\n",
    "    print(\"Uncertain:\\n\")\n",
    "    print(classification_report(df_uncertain_test['label'], df_uncertain_test[f'{cls}_preds']))\n",
    "    print(confusion_matrix(df_uncertain_test['label'], df_uncertain_test[f'{cls}_preds']))"
   ]
  },
  {
   "cell_type": "markdown",
   "metadata": {},
   "source": [
    "### Fals pozitive (detecteaza cutremur unde teoretic nu e)"
   ]
  },
  {
   "cell_type": "code",
   "execution_count": null,
   "metadata": {},
   "outputs": [
    {
     "ename": "NameError",
     "evalue": "name 'df_uncertain_raw' is not defined",
     "output_type": "error",
     "traceback": [
      "\u001b[0;31m---------------------------------------------------------------------------\u001b[0m",
      "\u001b[0;31mNameError\u001b[0m                                 Traceback (most recent call last)",
      "\u001b[0;32m/tmp/ipykernel_82308/95050834.py\u001b[0m in \u001b[0;36m<module>\u001b[0;34m\u001b[0m\n\u001b[0;32m----> 1\u001b[0;31m \u001b[0mpred_wrong_uncertain\u001b[0m \u001b[0;34m=\u001b[0m \u001b[0mdf_uncertain_raw\u001b[0m\u001b[0;34m[\u001b[0m\u001b[0;34m(\u001b[0m\u001b[0mdf_uncertain_raw\u001b[0m\u001b[0;34m[\u001b[0m\u001b[0;34m'any_preds'\u001b[0m\u001b[0;34m]\u001b[0m\u001b[0;34m==\u001b[0m\u001b[0;36m1\u001b[0m\u001b[0;34m)\u001b[0m \u001b[0;34m&\u001b[0m \u001b[0;34m(\u001b[0m\u001b[0mdf_uncertain_raw\u001b[0m\u001b[0;34m[\u001b[0m\u001b[0;34m'label'\u001b[0m\u001b[0;34m]\u001b[0m\u001b[0;34m==\u001b[0m\u001b[0;36m0\u001b[0m\u001b[0;34m)\u001b[0m\u001b[0;34m]\u001b[0m\u001b[0;34m.\u001b[0m\u001b[0msort_values\u001b[0m\u001b[0;34m(\u001b[0m\u001b[0mby\u001b[0m\u001b[0;34m=\u001b[0m\u001b[0;34m[\u001b[0m\u001b[0;34m'Year'\u001b[0m\u001b[0;34m,\u001b[0m\u001b[0;34m'month'\u001b[0m\u001b[0;34m,\u001b[0m\u001b[0;34m'frame'\u001b[0m\u001b[0;34m]\u001b[0m\u001b[0;34m)\u001b[0m\u001b[0;34m[\u001b[0m\u001b[0;34m[\u001b[0m\u001b[0;34m'Year'\u001b[0m\u001b[0;34m,\u001b[0m \u001b[0;34m'month'\u001b[0m\u001b[0;34m,\u001b[0m\u001b[0;34m'day'\u001b[0m\u001b[0;34m,\u001b[0m\u001b[0;34m'Hour'\u001b[0m\u001b[0;34m,\u001b[0m\u001b[0;34m'Minute'\u001b[0m\u001b[0;34m,\u001b[0m\u001b[0;34m'Seconds'\u001b[0m\u001b[0;34m,\u001b[0m\u001b[0;34m'frame'\u001b[0m\u001b[0;34m]\u001b[0m\u001b[0;34m]\u001b[0m\u001b[0;34m\u001b[0m\u001b[0;34m\u001b[0m\u001b[0m\n\u001b[0m\u001b[1;32m      2\u001b[0m \u001b[0mpred_wrong_uncertain\u001b[0m\u001b[0;34m\u001b[0m\u001b[0;34m\u001b[0m\u001b[0m\n",
      "\u001b[0;31mNameError\u001b[0m: name 'df_uncertain_raw' is not defined"
     ]
    }
   ],
   "source": [
    "pred_wrong_uncertain = df_uncertain_raw[(df_uncertain_raw['any_preds']==1) & (df_uncertain_raw['label']==0)].sort_values(by=['Year','month','frame'])[['Year', 'month','day','Hour','Minute','Seconds','frame']]\n",
    "pred_wrong_uncertain"
   ]
  },
  {
   "cell_type": "markdown",
   "metadata": {},
   "source": [
    "2011_12_30_03_03_00 - 88, 89, 90 - nu sunt rele actually, se vede ceva acolo destul de bine (desi probabil tine prea putin)\n",
    "2012_05_08_13_02_00 - 6, 8, 102, 105, 255"
   ]
  },
  {
   "cell_type": "markdown",
   "metadata": {},
   "source": [
    "### Fals negative (nu detecteaza corect cutremur)"
   ]
  },
  {
   "cell_type": "code",
   "execution_count": null,
   "metadata": {},
   "outputs": [
    {
     "data": {
      "text/html": [
       "<div>\n",
       "<style scoped>\n",
       "    .dataframe tbody tr th:only-of-type {\n",
       "        vertical-align: middle;\n",
       "    }\n",
       "\n",
       "    .dataframe tbody tr th {\n",
       "        vertical-align: top;\n",
       "    }\n",
       "\n",
       "    .dataframe thead th {\n",
       "        text-align: right;\n",
       "    }\n",
       "</style>\n",
       "<table border=\"1\" class=\"dataframe\">\n",
       "  <thead>\n",
       "    <tr style=\"text-align: right;\">\n",
       "      <th></th>\n",
       "      <th>Year</th>\n",
       "      <th>month</th>\n",
       "      <th>day</th>\n",
       "      <th>Hour</th>\n",
       "      <th>Minute</th>\n",
       "      <th>Seconds</th>\n",
       "      <th>frame</th>\n",
       "    </tr>\n",
       "  </thead>\n",
       "  <tbody>\n",
       "    <tr>\n",
       "      <th>779</th>\n",
       "      <td>2011</td>\n",
       "      <td>09</td>\n",
       "      <td>25</td>\n",
       "      <td>08</td>\n",
       "      <td>46</td>\n",
       "      <td>00</td>\n",
       "      <td>82</td>\n",
       "    </tr>\n",
       "    <tr>\n",
       "      <th>2972</th>\n",
       "      <td>2011</td>\n",
       "      <td>09</td>\n",
       "      <td>25</td>\n",
       "      <td>08</td>\n",
       "      <td>46</td>\n",
       "      <td>00</td>\n",
       "      <td>82</td>\n",
       "    </tr>\n",
       "    <tr>\n",
       "      <th>3315</th>\n",
       "      <td>2011</td>\n",
       "      <td>09</td>\n",
       "      <td>25</td>\n",
       "      <td>08</td>\n",
       "      <td>46</td>\n",
       "      <td>00</td>\n",
       "      <td>82</td>\n",
       "    </tr>\n",
       "    <tr>\n",
       "      <th>3430</th>\n",
       "      <td>2011</td>\n",
       "      <td>09</td>\n",
       "      <td>25</td>\n",
       "      <td>08</td>\n",
       "      <td>46</td>\n",
       "      <td>00</td>\n",
       "      <td>82</td>\n",
       "    </tr>\n",
       "    <tr>\n",
       "      <th>4518</th>\n",
       "      <td>2011</td>\n",
       "      <td>09</td>\n",
       "      <td>25</td>\n",
       "      <td>08</td>\n",
       "      <td>46</td>\n",
       "      <td>00</td>\n",
       "      <td>82</td>\n",
       "    </tr>\n",
       "    <tr>\n",
       "      <th>...</th>\n",
       "      <td>...</td>\n",
       "      <td>...</td>\n",
       "      <td>...</td>\n",
       "      <td>...</td>\n",
       "      <td>...</td>\n",
       "      <td>...</td>\n",
       "      <td>...</td>\n",
       "    </tr>\n",
       "    <tr>\n",
       "      <th>2340</th>\n",
       "      <td>2012</td>\n",
       "      <td>05</td>\n",
       "      <td>08</td>\n",
       "      <td>13</td>\n",
       "      <td>02</td>\n",
       "      <td>00</td>\n",
       "      <td>124</td>\n",
       "    </tr>\n",
       "    <tr>\n",
       "      <th>3567</th>\n",
       "      <td>2012</td>\n",
       "      <td>05</td>\n",
       "      <td>08</td>\n",
       "      <td>13</td>\n",
       "      <td>02</td>\n",
       "      <td>00</td>\n",
       "      <td>124</td>\n",
       "    </tr>\n",
       "    <tr>\n",
       "      <th>4740</th>\n",
       "      <td>2012</td>\n",
       "      <td>05</td>\n",
       "      <td>08</td>\n",
       "      <td>13</td>\n",
       "      <td>02</td>\n",
       "      <td>00</td>\n",
       "      <td>124</td>\n",
       "    </tr>\n",
       "    <tr>\n",
       "      <th>4770</th>\n",
       "      <td>2012</td>\n",
       "      <td>05</td>\n",
       "      <td>08</td>\n",
       "      <td>13</td>\n",
       "      <td>02</td>\n",
       "      <td>00</td>\n",
       "      <td>124</td>\n",
       "    </tr>\n",
       "    <tr>\n",
       "      <th>5054</th>\n",
       "      <td>2012</td>\n",
       "      <td>05</td>\n",
       "      <td>08</td>\n",
       "      <td>13</td>\n",
       "      <td>02</td>\n",
       "      <td>00</td>\n",
       "      <td>124</td>\n",
       "    </tr>\n",
       "  </tbody>\n",
       "</table>\n",
       "<p>378 rows × 7 columns</p>\n",
       "</div>"
      ],
      "text/plain": [
       "      Year month day Hour Minute Seconds  frame\n",
       "779   2011    09  25   08     46      00     82\n",
       "2972  2011    09  25   08     46      00     82\n",
       "3315  2011    09  25   08     46      00     82\n",
       "3430  2011    09  25   08     46      00     82\n",
       "4518  2011    09  25   08     46      00     82\n",
       "...    ...   ...  ..  ...    ...     ...    ...\n",
       "2340  2012    05  08   13     02      00    124\n",
       "3567  2012    05  08   13     02      00    124\n",
       "4740  2012    05  08   13     02      00    124\n",
       "4770  2012    05  08   13     02      00    124\n",
       "5054  2012    05  08   13     02      00    124\n",
       "\n",
       "[378 rows x 7 columns]"
      ]
     },
     "execution_count": 220,
     "metadata": {},
     "output_type": "execute_result"
    }
   ],
   "source": [
    "pred_wrong_uncertain = df_uncertain_raw[(df_uncertain_raw['any_preds']==0) & (df_uncertain_raw['label']==1)].sort_values(by=['Year','month','frame'])[['Year', 'month','day','Hour','Minute','Seconds','frame']]\n",
    "pred_wrong_uncertain"
   ]
  },
  {
   "cell_type": "markdown",
   "metadata": {},
   "source": [
    "### True pozitive (detecteaza corect cutremur)"
   ]
  },
  {
   "cell_type": "code",
   "execution_count": null,
   "metadata": {},
   "outputs": [
    {
     "data": {
      "text/html": [
       "<div>\n",
       "<style scoped>\n",
       "    .dataframe tbody tr th:only-of-type {\n",
       "        vertical-align: middle;\n",
       "    }\n",
       "\n",
       "    .dataframe tbody tr th {\n",
       "        vertical-align: top;\n",
       "    }\n",
       "\n",
       "    .dataframe thead th {\n",
       "        text-align: right;\n",
       "    }\n",
       "</style>\n",
       "<table border=\"1\" class=\"dataframe\">\n",
       "  <thead>\n",
       "    <tr style=\"text-align: right;\">\n",
       "      <th></th>\n",
       "      <th>Year</th>\n",
       "      <th>month</th>\n",
       "      <th>day</th>\n",
       "      <th>Hour</th>\n",
       "      <th>Minute</th>\n",
       "      <th>Seconds</th>\n",
       "      <th>frame</th>\n",
       "    </tr>\n",
       "  </thead>\n",
       "  <tbody>\n",
       "  </tbody>\n",
       "</table>\n",
       "</div>"
      ],
      "text/plain": [
       "Empty DataFrame\n",
       "Columns: [Year, month, day, Hour, Minute, Seconds, frame]\n",
       "Index: []"
      ]
     },
     "execution_count": 221,
     "metadata": {},
     "output_type": "execute_result"
    }
   ],
   "source": [
    "pred_wrong_uncertain = df_uncertain_raw[(df_uncertain_raw['any_preds']==1) & (df_uncertain_raw['label']==1)].sort_values(by=['Year','month','frame'])[['Year', 'month','day','Hour','Minute','Seconds','frame']]\n",
    "pred_wrong_uncertain"
   ]
  }
 ],
 "metadata": {
  "kernelspec": {
   "display_name": "Python 3.10.4 ('py')",
   "language": "python",
   "name": "python3"
  },
  "language_info": {
   "codemirror_mode": {
    "name": "ipython",
    "version": 3
   },
   "file_extension": ".py",
   "mimetype": "text/x-python",
   "name": "python",
   "nbconvert_exporter": "python",
   "pygments_lexer": "ipython3",
   "version": "3.9.7"
  },
  "orig_nbformat": 4,
  "vscode": {
   "interpreter": {
    "hash": "e9ae8dc3ff7097afd6e5e4dada2a0358d51f170c946777b0dda73691ff3f53fa"
   }
  }
 },
 "nbformat": 4,
 "nbformat_minor": 2
}

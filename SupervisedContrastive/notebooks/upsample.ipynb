{
 "cells": [
  {
   "cell_type": "code",
   "execution_count": 3,
   "metadata": {},
   "outputs": [],
   "source": [
    "from torchvision import transforms\n",
    "from PIL import Image\n",
    "import os"
   ]
  },
  {
   "cell_type": "code",
   "execution_count": 4,
   "metadata": {},
   "outputs": [],
   "source": [
    "transforms_list = [\n",
    "    transforms.RandomHorizontalFlip(p=1),\n",
    "    transforms.RandomVerticalFlip(p=1),\n",
    "    transforms.RandomRotation(degrees=[90,90]),\n",
    "    transforms.RandomRotation(degrees=[180,180]),\n",
    "    transforms.RandomRotation(degrees=[270,270])\n",
    "]"
   ]
  },
  {
   "cell_type": "code",
   "execution_count": 7,
   "metadata": {},
   "outputs": [],
   "source": [
    "# img_dir = \"/home/vanessa/Dev/DATASETS/C23_C24_pos-concat-val-upsampled-all/neg\"\n",
    "# img_files = os.listdir(img_dir)\n",
    "\n",
    "# for img_file in img_files:\n",
    "#     img_file = os.path.join(img_dir, img_file)\n",
    "#     img = Image.open(img_file)\n",
    "    \n",
    "#     for i, tr in enumerate(transforms_list):\n",
    "#         processed_img = tr(img)\n",
    "#         processed_img.save(f\"{img_file[:-4]}_T{i}.png\")\n",
    "\n",
    "img_dir = \"/home/vanessa/Dev/DATASETS/C23_C24_pos-concat-val-upsampled-all/poz\"\n",
    "img_files = os.listdir(img_dir)\n",
    "\n",
    "for img_file in img_files:\n",
    "    img_file = os.path.join(img_dir, img_file)\n",
    "    img = Image.open(img_file)\n",
    "    \n",
    "    for i, tr in enumerate(transforms_list):\n",
    "        processed_img = tr(img)\n",
    "        processed_img.save(f\"{img_file[:-4]}_T{i}.png\")"
   ]
  },
  {
   "cell_type": "code",
   "execution_count": 3,
   "metadata": {},
   "outputs": [],
   "source": [
    "img_dir = \"/home/vanessa-m/Dev/Datasets/C23_C24_pos-upsampled-all-concat/neg\"\n",
    "img_files = os.listdir(img_dir)\n",
    "\n",
    "for img_file in img_files:\n",
    "    img_file = os.path.join(img_dir, img_file)\n",
    "    img = Image.open(img_file)\n",
    "    \n",
    "    for i, tr in enumerate(transforms_list):\n",
    "        processed_img = tr(img)\n",
    "        processed_img.save(f\"{img_file[:-4]}_T{i}.jpg\")"
   ]
  },
  {
   "cell_type": "code",
   "execution_count": 7,
   "metadata": {},
   "outputs": [
    {
     "data": {
      "text/plain": [
       "tensor([1, 1, 0])"
      ]
     },
     "execution_count": 7,
     "metadata": {},
     "output_type": "execute_result"
    }
   ],
   "source": [
    "import torch\n",
    "torch.argmax(torch.tensor([[0.1,0.4],[0.2,0.9],[0.5,0.2]]), 1)"
   ]
  },
  {
   "cell_type": "code",
   "execution_count": 3,
   "metadata": {},
   "outputs": [],
   "source": [
    "img_dir = \"/home/vanessa-m/Dev/Datasets/C23_C24_pos-upsampled-dup/poz\"\n",
    "img_files = os.listdir(img_dir)\n",
    "\n",
    "for img_file in img_files:\n",
    "    img_file = os.path.join(img_dir, img_file)\n",
    "    img = Image.open(img_file)\n",
    "    \n",
    "    for i in range(0,5):\n",
    "        img.save(f\"{img_file[:-4]}_T{i}.jpg\")"
   ]
  },
  {
   "cell_type": "code",
   "execution_count": 6,
   "metadata": {},
   "outputs": [],
   "source": [
    "img_dir = \"/home/vanessa-m/Dev/Datasets/C23_C24_tstrot/neg\"\n",
    "img_files = os.listdir(img_dir)\n",
    "\n",
    "t = transforms.RandomRotation(degrees=[270,270])\n",
    "\n",
    "for img_file in img_files:\n",
    "    img_file = os.path.join(img_dir, img_file)\n",
    "    img = Image.open(img_file)\n",
    "    \n",
    "    processed_img = t(img)\n",
    "    processed_img.save(f\"{img_file[:-4]}.jpg\")"
   ]
  },
  {
   "cell_type": "code",
   "execution_count": 11,
   "metadata": {},
   "outputs": [],
   "source": [
    "img_dir = \"/home/vanessa-m/Dev/Datasets/tests/C23_C24_tstrot90/neg\"\n",
    "img_files = os.listdir(img_dir)\n",
    "\n",
    "t = transforms.RandomRotation(degrees=[90,90])\n",
    "\n",
    "for img_file in img_files:\n",
    "    img_file = os.path.join(img_dir, img_file)\n",
    "    img = Image.open(img_file)\n",
    "    \n",
    "    processed_img = t(img)\n",
    "    processed_img.save(f\"{img_file[:-4]}.jpg\")"
   ]
  },
  {
   "cell_type": "code",
   "execution_count": 12,
   "metadata": {},
   "outputs": [],
   "source": [
    "img_dir = \"/home/vanessa-m/Dev/Datasets/tests/C23_C24_tstrot180/neg\"\n",
    "img_files = os.listdir(img_dir)\n",
    "\n",
    "t = transforms.RandomRotation(degrees=[180,180])\n",
    "\n",
    "for img_file in img_files:\n",
    "    img_file = os.path.join(img_dir, img_file)\n",
    "    img = Image.open(img_file)\n",
    "    \n",
    "    processed_img = t(img)\n",
    "    processed_img.save(f\"{img_file[:-4]}.jpg\")"
   ]
  },
  {
   "cell_type": "code",
   "execution_count": 15,
   "metadata": {},
   "outputs": [],
   "source": [
    "img_dir = \"/home/vanessa-m/Dev/Datasets/tests/C23_C24_tstflipvert/neg\"\n",
    "img_files = os.listdir(img_dir)\n",
    "\n",
    "t = transforms.RandomVerticalFlip(p=1)\n",
    "\n",
    "for img_file in img_files:\n",
    "    img_file = os.path.join(img_dir, img_file)\n",
    "    img = Image.open(img_file)\n",
    "    \n",
    "    processed_img = t(img)\n",
    "    processed_img.save(f\"{img_file[:-4]}.jpg\")"
   ]
  },
  {
   "cell_type": "code",
   "execution_count": 16,
   "metadata": {},
   "outputs": [],
   "source": [
    "img_dir = \"/home/vanessa-m/Dev/Datasets/tests/C23_C24_tstfliphor/neg\"\n",
    "img_files = os.listdir(img_dir)\n",
    "\n",
    "t = transforms.RandomHorizontalFlip(p=1)\n",
    "\n",
    "for img_file in img_files:\n",
    "    img_file = os.path.join(img_dir, img_file)\n",
    "    img = Image.open(img_file)\n",
    "    \n",
    "    processed_img = t(img)\n",
    "    processed_img.save(f\"{img_file[:-4]}.jpg\")"
   ]
  },
  {
   "cell_type": "code",
   "execution_count": 22,
   "metadata": {},
   "outputs": [],
   "source": [
    "img_dir = \"/home/vanessa-m/Dev/Datasets/tests/C23_C24_valupsampled/neg\"\n",
    "img_files = os.listdir(img_dir)\n",
    "\n",
    "for img_file in img_files:\n",
    "    img_file = os.path.join(img_dir, img_file)\n",
    "    img = Image.open(img_file)\n",
    "    \n",
    "    for i, tr in enumerate(transforms_list):\n",
    "        processed_img = tr(img)\n",
    "        processed_img.save(f\"{img_file[:-4]}_T{i}.jpg\")"
   ]
  },
  {
   "cell_type": "code",
   "execution_count": 24,
   "metadata": {},
   "outputs": [],
   "source": [
    "img_dir = \"/home/vanessa-m/Dev/Datasets/tests/C23_C24_valupsampled/pos\"\n",
    "img_files = os.listdir(img_dir)\n",
    "\n",
    "for img_file in img_files:\n",
    "    img_file = os.path.join(img_dir, img_file)\n",
    "    img = Image.open(img_file)\n",
    "    \n",
    "    for i, tr in enumerate(transforms_list):\n",
    "        processed_img = tr(img)\n",
    "        processed_img.save(f\"{img_file[:-4]}_T{i}.jpg\")"
   ]
  }
 ],
 "metadata": {
  "kernelspec": {
   "display_name": "Python 3.10.4 ('py')",
   "language": "python",
   "name": "python3"
  },
  "language_info": {
   "codemirror_mode": {
    "name": "ipython",
    "version": 3
   },
   "file_extension": ".py",
   "mimetype": "text/x-python",
   "name": "python",
   "nbconvert_exporter": "python",
   "pygments_lexer": "ipython3",
   "version": "3.9.7"
  },
  "orig_nbformat": 4,
  "vscode": {
   "interpreter": {
    "hash": "e9ae8dc3ff7097afd6e5e4dada2a0358d51f170c946777b0dda73691ff3f53fa"
   }
  }
 },
 "nbformat": 4,
 "nbformat_minor": 2
}

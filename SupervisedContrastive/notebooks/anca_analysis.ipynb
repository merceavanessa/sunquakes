{
 "cells": [
  {
   "cell_type": "code",
   "execution_count": 50,
   "metadata": {},
   "outputs": [],
   "source": [
    "from sklearn.metrics import classification_report, confusion_matrix\n",
    "from sklearn.neighbors import KNeighborsClassifier as knn\n",
    "from sklearn.ensemble import BaggingClassifier as knn_bagging\n",
    "from sklearn.linear_model import SGDClassifier as sgd\n",
    "from sklearn.linear_model import LogisticRegression as logistic_reg\n",
    "from sklearn.preprocessing import StandardScaler\n",
    "\n",
    "import pandas as pd\n",
    "import seaborn as sns\n",
    "import matplotlib.pyplot as plt\n",
    "\n",
    "from sklearn.svm import SVC\n",
    "# \n",
    "import imblearn\n",
    "plt.style.use(\"dark_background\")\n"
   ]
  },
  {
   "cell_type": "code",
   "execution_count": 51,
   "metadata": {},
   "outputs": [],
   "source": [
    "df_all = pd.read_csv('./out/12_07_train_and_test_without_custom_mixing.csv')"
   ]
  },
  {
   "cell_type": "code",
   "execution_count": 52,
   "metadata": {},
   "outputs": [
    {
     "data": {
      "text/plain": [
       "array(['2015-03-11T16:11:00.000000000', '2017-09-07T10:11:00.000000000',\n",
       "       '2005-01-15T00:33:00.000000000', '2001-04-06T19:13:00.000000000',\n",
       "       '2001-09-24T09:35:00.000000000', '2011-09-07T22:32:00.000000000',\n",
       "       '2013-11-10T05:08:00.000000000', '2012-07-06T01:37:00.000000000',\n",
       "       '2003-10-29T20:35:00.000000000', '2002-07-15T19:52:00.000000000',\n",
       "       '2003-10-28T11:00:00.000000000', '2012-03-09T03:22:00.000000000',\n",
       "       '2011-09-26T05:06:00.000000000', '2011-02-18T09:55:00.000000000',\n",
       "       '2001-04-10T05:01:00.000000000', '2000-06-06T14:57:00.000000000',\n",
       "       '2002-07-23T00:27:00.000000000', '2000-11-24T04:54:00.000000000',\n",
       "       '2012-07-04T09:47:00.000000000', '2014-02-02T06:24:00.000000000',\n",
       "       '2002-08-21T05:24:00.000000000', '2017-09-04T20:28:00.000000000',\n",
       "       '2015-09-30T13:18:00.000000000', '2012-07-06T13:26:00.000000000',\n",
       "       '2012-05-09T21:01:00.000000000', '2012-07-05T03:25:00.000000000',\n",
       "       '2004-07-16T13:48:00.000000000', '2013-10-24T10:30:00.000000000',\n",
       "       '2013-11-06T13:39:00.000000000', '2012-07-05T20:09:00.000000000',\n",
       "       '2012-07-04T14:35:00.000000000', '2017-09-05T01:03:00.000000000',\n",
       "       '2014-02-07T10:25:00.000000000', '2012-03-05T19:27:00.000000000',\n",
       "       '2015-09-28T14:53:00.000000000', '2011-09-24T20:29:00.000000000',\n",
       "       '2015-08-22T21:19:00.000000000', '2015-01-03T09:40:00.000000000',\n",
       "       '2013-11-08T04:20:00.000000000', '2017-09-07T14:20:00.000000000',\n",
       "       '2012-03-06T12:23:00.000000000', '2012-07-05T11:39:00.000000000',\n",
       "       '2004-08-13T18:07:00.000000000', '2014-11-09T15:24:00.000000000',\n",
       "       '2003-10-23T08:45:00.000000000', '2017-09-06T08:57:00.000000000',\n",
       "       '2012-03-06T04:01:00.000000000', '2013-11-07T03:34:00.000000000',\n",
       "       '2015-03-10T23:46:00.000000000', '2011-02-15T01:44:00.000000000',\n",
       "       '2011-02-18T12:59:00.000000000', '1996-07-09T09:01:00.000000000',\n",
       "       '2012-03-06T07:52:00.000000000'], dtype='datetime64[ns]')"
      ]
     },
     "execution_count": 52,
     "metadata": {},
     "output_type": "execute_result"
    }
   ],
   "source": [
    "test_dates = ['1996-07-09T09:01:00.000000000', '2012-07-06T13:26:00.000000000',\n",
    "       '2001-04-06T19:13:00.000000000', '2015-03-11T16:11:00.000000000',\n",
    "       '2001-09-24T09:35:00.000000000', '2012-03-06T07:52:00.000000000',\n",
    "       '2013-11-08T04:20:00.000000000', '2012-07-04T09:47:00.000000000',\n",
    "       '2002-07-23T00:27:00.000000000', '2015-09-28T14:53:00.000000000',\n",
    "       '2012-03-05T19:27:00.000000000']\n",
    "\n",
    "df_all = update_cols(df_all, has_tr=False)\n",
    "\n",
    "df_all['date'] = pd.to_datetime(df_all[['Year', 'month', 'day', 'Hour','Minute','Seconds']])\n",
    "df_all['date'].unique() "
   ]
  },
  {
   "cell_type": "code",
   "execution_count": 55,
   "metadata": {},
   "outputs": [],
   "source": [
    "df_test = df_all[df_all['date'].isin(test_dates)]\n",
    "df_train = df_all[~df_all['date'].isin(test_dates)]"
   ]
  },
  {
   "cell_type": "code",
   "execution_count": 56,
   "metadata": {},
   "outputs": [],
   "source": [
    "df_train.to_csv(\"train_no_custom_mixing.csv\", index=False)\n",
    "df_test.to_csv(\"test_no_custom_mixing.csv\", index=False)"
   ]
  },
  {
   "cell_type": "code",
   "execution_count": 20,
   "metadata": {},
   "outputs": [],
   "source": [
    "\n",
    "df_train = pd.read_csv('/home/vanessa/Dev/Astro/astro/csvs/embeddings.csv')\n",
    "df_test = pd.read_csv('/home/vanessa/Dev/Astro/astro/csvs/embeddings_test.csv')\n",
    "# df_uncertain = pd.read_csv('./out/shuffled_test.csv')"
   ]
  },
  {
   "cell_type": "code",
   "execution_count": 27,
   "metadata": {},
   "outputs": [],
   "source": [
    "emb_cols = [f'{x}' for x in range(256)]"
   ]
  },
  {
   "cell_type": "code",
   "execution_count": 29,
   "metadata": {},
   "outputs": [],
   "source": [
    "scaler = StandardScaler()\n",
    "\n",
    "\n",
    "scaled_train = scaler.fit_transform(df_train[emb_cols])\n",
    "scaled_test = scaler.transform(df_test[emb_cols])\n",
    "\n",
    "X, y = scaled_train, df_train['label']"
   ]
  },
  {
   "cell_type": "code",
   "execution_count": 15,
   "metadata": {},
   "outputs": [],
   "source": [
    "test_dates = ['1996-07-09T09:01:00.000000000', '2012-07-06T13:26:00.000000000',\n",
    "       '2001-04-06T19:13:00.000000000', '2015-03-11T16:11:00.000000000',\n",
    "       '2001-09-24T09:35:00.000000000', '2012-03-06T07:52:00.000000000',\n",
    "       '2013-11-08T04:20:00.000000000', '2012-07-04T09:47:00.000000000',\n",
    "       '2002-07-23T00:27:00.000000000', '2015-09-28T14:53:00.000000000',\n",
    "       '2012-03-05T19:27:00.000000000']"
   ]
  },
  {
   "cell_type": "code",
   "execution_count": 16,
   "metadata": {},
   "outputs": [],
   "source": [
    "df_train = pd.read_csv('./out/shuffled_train_val.csv')\n",
    "df_uncertain = pd.read_csv('./out/shuffled_test.csv')\n"
   ]
  },
  {
   "cell_type": "code",
   "execution_count": 49,
   "metadata": {},
   "outputs": [],
   "source": [
    "cols_to_extract_no_tr  = ['useless1','useless2','useless3','part_of_quake','Year','month','day','Hour','Minute','Seconds','frame']\n",
    "cols_to_extract_has_tr  = cols_to_extract_no_tr + ['transform']\n",
    "emb_cols = [f'{x}' for x in range(0,20)]\n",
    "\n",
    "def update_cols(df, has_tr):\n",
    "    if (has_tr):\n",
    "        df[cols_to_extract_has_tr] = df['name'].str.split('_', expand=True)\n",
    "        df.loc[df['transform'].isna(),'transform'] = '20'\n",
    "        df['transform'] = df['transform'].str.extract('(\\d+)', expand=False)\n",
    "        df['transform']=df['transform'].astype(int)\n",
    "    else:\n",
    "        df[cols_to_extract_no_tr] = df['name'].str.split('_', expand=True)\n",
    "    \n",
    "\n",
    "    # df['label'] = df['useless1'].str.replace('/img','')\n",
    "    # df['label'] = df['label'].str.replace('neg','0')\n",
    "    # df['label'] = df['label'].str.replace('poz','1')\n",
    "    # df['label']=df['label'].astype(int)\n",
    "\n",
    "    df['frame'] = df['frame'].str.extract('(\\d+)', expand=False)\n",
    "    df['frame']=df['frame'].astype(int)\n",
    "    return df\n",
    "\n",
    "def set_preds(df_train, df_test, df_uncertain, preds_train, preds_test, preds_uncertain, clstype):\n",
    "    df_train[clstype+'_preds'] = preds_train\n",
    "    df_test[clstype+'_preds'] = preds_test\n",
    "    df_uncertain[clstype+'_preds'] = preds_uncertain"
   ]
  },
  {
   "cell_type": "code",
   "execution_count": 18,
   "metadata": {},
   "outputs": [],
   "source": [
    "df_train = update_cols(df_train, has_tr=True)\n",
    "df_uncertain = update_cols(df_uncertain, has_tr=False)\n",
    "\n",
    "df_train['date'] = pd.to_datetime(df_train[['Year', 'month', 'day', 'Hour','Minute','Seconds']])\n",
    "df_train['date'].unique() \n",
    "\n",
    "df_uncertain['date'] = pd.to_datetime(df_uncertain[['Year', 'month', 'day', 'Hour','Minute','Seconds']])\n",
    "df_uncertain['date'].unique()\n",
    "\n",
    "df_test = df_train[df_train['date'].isin(test_dates)]\n",
    "df_train = df_train[~df_train['date'].isin(test_dates)]\n",
    "\n",
    "df_train = df_train[df_train['transform'] == 20].copy()\n",
    "df_test = df_test[df_test['transform'] == 20].copy()"
   ]
  },
  {
   "cell_type": "code",
   "execution_count": 7,
   "metadata": {},
   "outputs": [],
   "source": [
    "from imblearn.over_sampling import SMOTE\n",
    "from imblearn.under_sampling import RandomUnderSampler\n",
    "from imblearn.pipeline import Pipeline\n",
    "scaler = StandardScaler()\n",
    "\n",
    "scaled_train = scaler.fit_transform(df_train[emb_cols])\n",
    "scaled_test = scaler.transform(df_test[emb_cols])\n",
    "scaled_uncertain = scaler.transform(df_uncertain[emb_cols])\n",
    "\n",
    "over = SMOTE(sampling_strategy=0.2)\n",
    "under = RandomUnderSampler(sampling_strategy=0.75)\n",
    "\n",
    "steps = [('o', over), ('u', under)]\n",
    "pipeline = Pipeline(steps=steps)\n",
    "\n",
    "X, y = pipeline.fit_resample(scaled_train, df_train['label'])\n",
    "\n",
    "# X, y = scaled_train, df_train['label']"
   ]
  },
  {
   "cell_type": "code",
   "execution_count": 8,
   "metadata": {},
   "outputs": [],
   "source": [
    "model = knn_bagging(bootstrap=True,warm_start=True,bootstrap_features=True, max_features=1)\n",
    "model.fit(X, y)\n",
    "\n",
    "preds_train = model.predict(scaled_train)\n",
    "preds = model.predict(scaled_test)\n",
    "\n",
    "uncertain_preds = None\n",
    "uncertain_preds = model.predict(scaled_uncertain)\n",
    "    \n",
    "set_preds(df_train, df_test, df_uncertain, preds_train, preds, uncertain_preds, f'knn_bagging')"
   ]
  },
  {
   "cell_type": "code",
   "execution_count": 9,
   "metadata": {},
   "outputs": [],
   "source": [
    "from sklearn.svm import SVC\n",
    "\n",
    "kernels = ['poly', 'rbf']\n",
    "\n",
    "for i, kernel in enumerate(kernels):\n",
    "    svc1 = SVC(C=0.005, kernel=kernel)#, class_weight='balanced')\n",
    "    svc1.fit(X, y)\n",
    "\n",
    "    preds_train_svc = svc1.predict(scaled_train)\n",
    "    preds_test_svc = svc1.predict(scaled_test)\n",
    "\n",
    "    preds_unc_svc = None\n",
    "    preds_unc_svc = model.predict(scaled_uncertain)\n",
    "\n",
    "    set_preds(df_train, df_test, df_uncertain, preds_train_svc, preds_test_svc, preds_unc_svc, f'svc_{kernel}')\n"
   ]
  },
  {
   "cell_type": "code",
   "execution_count": 10,
   "metadata": {},
   "outputs": [],
   "source": [
    "lr = logistic_reg()#max_iter=200, warm_start=True, tol=1e-1,solver='newton-cg')#class_weight='balanced')\n",
    "lr.fit(X, y)\n",
    "preds_train_lr = lr.predict(scaled_train)\n",
    "preds_test_lr = lr.predict(scaled_test)\n",
    "\n",
    "preds_unc_lr = None\n",
    "preds_unc_lr = model.predict(scaled_uncertain)\n",
    "\n",
    "set_preds(df_train, df_test, df_uncertain, preds_train_lr, preds_test_lr, preds_unc_lr, f'logistic_regression')"
   ]
  },
  {
   "cell_type": "code",
   "execution_count": 11,
   "metadata": {},
   "outputs": [],
   "source": [
    "model = sgd(class_weight='balanced')\n",
    "model.fit(X, y)\n",
    "\n",
    "preds_train = model.predict(scaled_train)\n",
    "preds = model.predict(scaled_test)\n",
    "\n",
    "uncertain_preds = None\n",
    "uncertain_preds = model.predict(scaled_uncertain)\n",
    "\n",
    "set_preds(df_train, df_test, df_uncertain, preds_train, preds, uncertain_preds, f'sgd')"
   ]
  },
  {
   "cell_type": "code",
   "execution_count": 12,
   "metadata": {},
   "outputs": [],
   "source": [
    "import sys\n",
    "import numpy as np\n",
    "run_on_raw = True\n",
    "cls_types = ['knn_bagging', 'svc_poly', 'svc_rbf','logistic_regression','sgd']\n",
    "\n",
    "with open(f\"results_all_contrastive_shuffle_anca{'_raw' if run_on_raw else ''}.txt\", 'w') as f:\n",
    "    for i, cls in enumerate(cls_types):\n",
    "        f.write(f\"\\n------{cls} 'raw' based on shuffled_anca------\\n\")\n",
    " \n",
    "        f.write(\"\\nTrain:\\n\")\n",
    "        f.write(classification_report(df_train['label'], df_train[f'{cls}_preds']))\n",
    "        f.write(np.array2string(confusion_matrix(df_train['label'], df_train[f'{cls}_preds'])))\n",
    "        f.write(\"\\nTest:\\n\")\n",
    "        f.write(classification_report(df_test['label'], df_test[f'{cls}_preds']))\n",
    "        f.write(np.array2string(confusion_matrix(df_test['label'], df_test[f'{cls}_preds'])))\n",
    "        f.write(\"\\nUncertain:\\n\")\n",
    "        f.write(classification_report(df_uncertain['label'], df_uncertain[f'{cls}_preds']))\n",
    "        f.write(np.array2string(confusion_matrix(df_uncertain['label'], df_uncertain[f'{cls}_preds'])))\n"
   ]
  },
  {
   "cell_type": "code",
   "execution_count": 13,
   "metadata": {},
   "outputs": [],
   "source": [
    "df_train['']\n",
    "df_train.to_csv(f'./out/builtpreds/shufflerun_train.csv',index=False)\n",
    "df_test.to_csv(f'./out/builtpreds/shufflerun_test.csv',index=False)\n",
    "\n",
    "df_uncertain.to_csv(f'./out/builtpreds/shufflerun_uncertain.csv',index=False)"
   ]
  },
  {
   "cell_type": "code",
   "execution_count": null,
   "metadata": {},
   "outputs": [],
   "source": [
    "d"
   ]
  }
 ],
 "metadata": {
  "interpreter": {
   "hash": "916dbcbb3f70747c44a77c7bcd40155683ae19c65e1c03b4aa3499c5328201f1"
  },
  "kernelspec": {
   "display_name": "Python 3.8.10 64-bit",
   "language": "python",
   "name": "python3"
  },
  "language_info": {
   "codemirror_mode": {
    "name": "ipython",
    "version": 3
   },
   "file_extension": ".py",
   "mimetype": "text/x-python",
   "name": "python",
   "nbconvert_exporter": "python",
   "pygments_lexer": "ipython3",
   "version": "3.9.7"
  },
  "orig_nbformat": 4
 },
 "nbformat": 4,
 "nbformat_minor": 2
}
